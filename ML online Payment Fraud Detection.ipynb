{
 "cells": [
  {
   "cell_type": "markdown",
   "id": "7e75f4e3",
   "metadata": {},
   "source": [
    "# Online Payment Fraud Detection - ML\n"
   ]
  },
  {
   "cell_type": "markdown",
   "id": "2d2806d9",
   "metadata": {},
   "source": [
    "## Object\n",
    "\n",
    "- As we are approaching modernity, the trend of paying online is increasing tremendously. It is very beneficial for the buyer  to pay online as it saves time, and solves the problem of free money. Also, we do not need to carry cash with us.But we all know that Good thing are accompanied by bad things."
   ]
  },
  {
   "cell_type": "markdown",
   "id": "190eb25e",
   "metadata": {},
   "source": [
    "# Dataset description\n",
    "\n",
    "The Dataset used for this project consists of the following columns:\n",
    "\n",
    "- Step\n",
    "- type\n",
    "- amount\n",
    "- nameOrig\n",
    "- oldbalanceOrg\n",
    "- newbalanceOrig\n",
    "- nameDest\n",
    "- oldbalanceDest\n",
    "- newbalanceDest\n",
    "- isFraud\n",
    "- isFlaggedFraud\n",
    "\n"
   ]
  },
  {
   "cell_type": "markdown",
   "id": "847a7db9",
   "metadata": {},
   "source": [
    "## Steps\n",
    "\n",
    "- Importing libraries\n",
    "\n",
    "- Read Data\n",
    "\n",
    "- Data Preprocessing \n",
    "\n",
    "- Outlayer Dectection\n",
    "\n",
    "- Feature Engineering\n",
    "\n",
    "- Featuer encoding\n",
    "\n",
    "- Train_Test_Split\n",
    "\n",
    "- Model Training\n",
    "\n",
    "- Prediction"
   ]
  },
  {
   "cell_type": "markdown",
   "id": "22707f51",
   "metadata": {},
   "source": [
    "##  Importing libraries"
   ]
  },
  {
   "cell_type": "code",
   "execution_count": 1,
   "id": "69141354",
   "metadata": {},
   "outputs": [],
   "source": [
    "import pandas as pd\n",
    "import numpy as np\n",
    "import matplotlib.pyplot as plt\n",
    "import seaborn as sns\n",
    "import joblib as jb\n",
    "\n",
    "from sklearn.preprocessing import OrdinalEncoder\n",
    "from sklearn.model_selection import train_test_split\n",
    "\n",
    "from sklearn.linear_model import LogisticRegression\n",
    "from sklearn.ensemble import RandomForestRegressor\n",
    "from sklearn.svm import SVC\n",
    "from sklearn.ensemble import GradientBoostingRegressor\n",
    "from math import sqrt\n",
    "from sklearn.metrics import mean_absolute_error,mean_squared_error,r2_score\n",
    "\n",
    "import warnings\n",
    "warnings.filterwarnings('ignore')"
   ]
  },
  {
   "cell_type": "markdown",
   "id": "87cb65f4",
   "metadata": {},
   "source": [
    "##  Read Data"
   ]
  },
  {
   "cell_type": "code",
   "execution_count": 2,
   "id": "8e442539",
   "metadata": {},
   "outputs": [],
   "source": [
    "df=pd.read_csv('E:/Rajalakshmi/PROJECT/file/train/rawtrain.csv')"
   ]
  },
  {
   "cell_type": "code",
   "execution_count": 3,
   "id": "4d241103",
   "metadata": {},
   "outputs": [
    {
     "data": {
      "text/html": [
       "<div>\n",
       "<style scoped>\n",
       "    .dataframe tbody tr th:only-of-type {\n",
       "        vertical-align: middle;\n",
       "    }\n",
       "\n",
       "    .dataframe tbody tr th {\n",
       "        vertical-align: top;\n",
       "    }\n",
       "\n",
       "    .dataframe thead th {\n",
       "        text-align: right;\n",
       "    }\n",
       "</style>\n",
       "<table border=\"1\" class=\"dataframe\">\n",
       "  <thead>\n",
       "    <tr style=\"text-align: right;\">\n",
       "      <th></th>\n",
       "      <th>step</th>\n",
       "      <th>type</th>\n",
       "      <th>amount</th>\n",
       "      <th>nameOrig</th>\n",
       "      <th>oldbalanceOrg</th>\n",
       "      <th>newbalanceOrig</th>\n",
       "      <th>nameDest</th>\n",
       "      <th>oldbalanceDest</th>\n",
       "      <th>newbalanceDest</th>\n",
       "      <th>isFraud</th>\n",
       "      <th>isFlaggedFraud</th>\n",
       "    </tr>\n",
       "  </thead>\n",
       "  <tbody>\n",
       "    <tr>\n",
       "      <th>0</th>\n",
       "      <td>7</td>\n",
       "      <td>CASH_OUT</td>\n",
       "      <td>413692.19</td>\n",
       "      <td>C1049202430</td>\n",
       "      <td>22680.51</td>\n",
       "      <td>0.00</td>\n",
       "      <td>C93518808</td>\n",
       "      <td>150264.00</td>\n",
       "      <td>0.00</td>\n",
       "      <td>0</td>\n",
       "      <td>0</td>\n",
       "    </tr>\n",
       "    <tr>\n",
       "      <th>1</th>\n",
       "      <td>6</td>\n",
       "      <td>PAYMENT</td>\n",
       "      <td>4197.94</td>\n",
       "      <td>C2051611232</td>\n",
       "      <td>20129.00</td>\n",
       "      <td>15931.06</td>\n",
       "      <td>M134963352</td>\n",
       "      <td>0.00</td>\n",
       "      <td>0.00</td>\n",
       "      <td>0</td>\n",
       "      <td>0</td>\n",
       "    </tr>\n",
       "    <tr>\n",
       "      <th>2</th>\n",
       "      <td>1</td>\n",
       "      <td>PAYMENT</td>\n",
       "      <td>13310.78</td>\n",
       "      <td>C2095677157</td>\n",
       "      <td>0.00</td>\n",
       "      <td>0.00</td>\n",
       "      <td>M852026681</td>\n",
       "      <td>0.00</td>\n",
       "      <td>0.00</td>\n",
       "      <td>0</td>\n",
       "      <td>0</td>\n",
       "    </tr>\n",
       "    <tr>\n",
       "      <th>3</th>\n",
       "      <td>2</td>\n",
       "      <td>PAYMENT</td>\n",
       "      <td>11762.79</td>\n",
       "      <td>C909914828</td>\n",
       "      <td>0.00</td>\n",
       "      <td>0.00</td>\n",
       "      <td>M116650158</td>\n",
       "      <td>0.00</td>\n",
       "      <td>0.00</td>\n",
       "      <td>0</td>\n",
       "      <td>0</td>\n",
       "    </tr>\n",
       "    <tr>\n",
       "      <th>4</th>\n",
       "      <td>7</td>\n",
       "      <td>PAYMENT</td>\n",
       "      <td>4736.45</td>\n",
       "      <td>C1160393458</td>\n",
       "      <td>196815.00</td>\n",
       "      <td>192078.55</td>\n",
       "      <td>M766991922</td>\n",
       "      <td>0.00</td>\n",
       "      <td>0.00</td>\n",
       "      <td>0</td>\n",
       "      <td>0</td>\n",
       "    </tr>\n",
       "    <tr>\n",
       "      <th>...</th>\n",
       "      <td>...</td>\n",
       "      <td>...</td>\n",
       "      <td>...</td>\n",
       "      <td>...</td>\n",
       "      <td>...</td>\n",
       "      <td>...</td>\n",
       "      <td>...</td>\n",
       "      <td>...</td>\n",
       "      <td>...</td>\n",
       "      <td>...</td>\n",
       "      <td>...</td>\n",
       "    </tr>\n",
       "    <tr>\n",
       "      <th>6994</th>\n",
       "      <td>7</td>\n",
       "      <td>CASH_IN</td>\n",
       "      <td>52429.68</td>\n",
       "      <td>C1904553846</td>\n",
       "      <td>2421260.74</td>\n",
       "      <td>2473690.41</td>\n",
       "      <td>C1882860489</td>\n",
       "      <td>279027.08</td>\n",
       "      <td>226597.40</td>\n",
       "      <td>0</td>\n",
       "      <td>0</td>\n",
       "    </tr>\n",
       "    <tr>\n",
       "      <th>6995</th>\n",
       "      <td>7</td>\n",
       "      <td>CASH_OUT</td>\n",
       "      <td>65619.81</td>\n",
       "      <td>C1167627805</td>\n",
       "      <td>0.00</td>\n",
       "      <td>0.00</td>\n",
       "      <td>C1850042097</td>\n",
       "      <td>84362.06</td>\n",
       "      <td>61127.87</td>\n",
       "      <td>0</td>\n",
       "      <td>0</td>\n",
       "    </tr>\n",
       "    <tr>\n",
       "      <th>6996</th>\n",
       "      <td>5</td>\n",
       "      <td>PAYMENT</td>\n",
       "      <td>3445.14</td>\n",
       "      <td>C532068603</td>\n",
       "      <td>283795.44</td>\n",
       "      <td>280350.31</td>\n",
       "      <td>M345865414</td>\n",
       "      <td>0.00</td>\n",
       "      <td>0.00</td>\n",
       "      <td>0</td>\n",
       "      <td>0</td>\n",
       "    </tr>\n",
       "    <tr>\n",
       "      <th>6997</th>\n",
       "      <td>1</td>\n",
       "      <td>PAYMENT</td>\n",
       "      <td>2380.21</td>\n",
       "      <td>C535352603</td>\n",
       "      <td>6003259.91</td>\n",
       "      <td>6000879.70</td>\n",
       "      <td>M2015261478</td>\n",
       "      <td>0.00</td>\n",
       "      <td>0.00</td>\n",
       "      <td>0</td>\n",
       "      <td>0</td>\n",
       "    </tr>\n",
       "    <tr>\n",
       "      <th>6998</th>\n",
       "      <td>2</td>\n",
       "      <td>PAYMENT</td>\n",
       "      <td>4640.64</td>\n",
       "      <td>C179455108</td>\n",
       "      <td>1023.00</td>\n",
       "      <td>0.00</td>\n",
       "      <td>M1424243710</td>\n",
       "      <td>0.00</td>\n",
       "      <td>0.00</td>\n",
       "      <td>0</td>\n",
       "      <td>0</td>\n",
       "    </tr>\n",
       "  </tbody>\n",
       "</table>\n",
       "<p>6999 rows × 11 columns</p>\n",
       "</div>"
      ],
      "text/plain": [
       "      step      type     amount     nameOrig  oldbalanceOrg  newbalanceOrig   \n",
       "0        7  CASH_OUT  413692.19  C1049202430       22680.51            0.00  \\\n",
       "1        6   PAYMENT    4197.94  C2051611232       20129.00        15931.06   \n",
       "2        1   PAYMENT   13310.78  C2095677157           0.00            0.00   \n",
       "3        2   PAYMENT   11762.79   C909914828           0.00            0.00   \n",
       "4        7   PAYMENT    4736.45  C1160393458      196815.00       192078.55   \n",
       "...    ...       ...        ...          ...            ...             ...   \n",
       "6994     7   CASH_IN   52429.68  C1904553846     2421260.74      2473690.41   \n",
       "6995     7  CASH_OUT   65619.81  C1167627805           0.00            0.00   \n",
       "6996     5   PAYMENT    3445.14   C532068603      283795.44       280350.31   \n",
       "6997     1   PAYMENT    2380.21   C535352603     6003259.91      6000879.70   \n",
       "6998     2   PAYMENT    4640.64   C179455108        1023.00            0.00   \n",
       "\n",
       "         nameDest  oldbalanceDest  newbalanceDest  isFraud  isFlaggedFraud  \n",
       "0       C93518808       150264.00            0.00        0               0  \n",
       "1      M134963352            0.00            0.00        0               0  \n",
       "2      M852026681            0.00            0.00        0               0  \n",
       "3      M116650158            0.00            0.00        0               0  \n",
       "4      M766991922            0.00            0.00        0               0  \n",
       "...           ...             ...             ...      ...             ...  \n",
       "6994  C1882860489       279027.08       226597.40        0               0  \n",
       "6995  C1850042097        84362.06        61127.87        0               0  \n",
       "6996   M345865414            0.00            0.00        0               0  \n",
       "6997  M2015261478            0.00            0.00        0               0  \n",
       "6998  M1424243710            0.00            0.00        0               0  \n",
       "\n",
       "[6999 rows x 11 columns]"
      ]
     },
     "execution_count": 3,
     "metadata": {},
     "output_type": "execute_result"
    }
   ],
   "source": [
    "df"
   ]
  },
  {
   "cell_type": "markdown",
   "id": "adfc5520",
   "metadata": {},
   "source": [
    "##  Data Preprocessing "
   ]
  },
  {
   "cell_type": "code",
   "execution_count": 4,
   "id": "3408078d",
   "metadata": {},
   "outputs": [
    {
     "name": "stdout",
     "output_type": "stream",
     "text": [
      "<class 'pandas.core.frame.DataFrame'>\n",
      "RangeIndex: 6999 entries, 0 to 6998\n",
      "Data columns (total 11 columns):\n",
      " #   Column          Non-Null Count  Dtype  \n",
      "---  ------          --------------  -----  \n",
      " 0   step            6999 non-null   int64  \n",
      " 1   type            6999 non-null   object \n",
      " 2   amount          6999 non-null   float64\n",
      " 3   nameOrig        6999 non-null   object \n",
      " 4   oldbalanceOrg   6999 non-null   float64\n",
      " 5   newbalanceOrig  6999 non-null   float64\n",
      " 6   nameDest        6999 non-null   object \n",
      " 7   oldbalanceDest  6999 non-null   float64\n",
      " 8   newbalanceDest  6999 non-null   float64\n",
      " 9   isFraud         6999 non-null   int64  \n",
      " 10  isFlaggedFraud  6999 non-null   int64  \n",
      "dtypes: float64(5), int64(3), object(3)\n",
      "memory usage: 601.6+ KB\n"
     ]
    }
   ],
   "source": [
    "# To see the information of the Dataset\n",
    "df.info()"
   ]
  },
  {
   "cell_type": "code",
   "execution_count": 5,
   "id": "adf58d17",
   "metadata": {},
   "outputs": [
    {
     "data": {
      "text/plain": [
       "step              0\n",
       "type              0\n",
       "amount            0\n",
       "nameOrig          0\n",
       "oldbalanceOrg     0\n",
       "newbalanceOrig    0\n",
       "nameDest          0\n",
       "oldbalanceDest    0\n",
       "newbalanceDest    0\n",
       "isFraud           0\n",
       "isFlaggedFraud    0\n",
       "dtype: int64"
      ]
     },
     "execution_count": 5,
     "metadata": {},
     "output_type": "execute_result"
    }
   ],
   "source": [
    "#To check if there is any null value in the dataset\n",
    "df.isnull().sum()"
   ]
  },
  {
   "cell_type": "code",
   "execution_count": 6,
   "id": "898d9d9a",
   "metadata": {},
   "outputs": [
    {
     "data": {
      "text/plain": [
       "(6999, 11)"
      ]
     },
     "execution_count": 6,
     "metadata": {},
     "output_type": "execute_result"
    }
   ],
   "source": [
    "#check shape of the entire dataframe using .shape attribute\n",
    "df.shape"
   ]
  },
  {
   "cell_type": "code",
   "execution_count": 7,
   "id": "4dc0dfb3",
   "metadata": {},
   "outputs": [
    {
     "data": {
      "text/plain": [
       "step                 7\n",
       "type                 5\n",
       "amount            6982\n",
       "nameOrig          6999\n",
       "oldbalanceOrg     5150\n",
       "newbalanceOrig    4139\n",
       "nameDest          4647\n",
       "oldbalanceDest    2913\n",
       "newbalanceDest    1243\n",
       "isFraud              2\n",
       "isFlaggedFraud       1\n",
       "dtype: int64"
      ]
     },
     "execution_count": 7,
     "metadata": {},
     "output_type": "execute_result"
    }
   ],
   "source": [
    "#To see the unique values in the dataset\n",
    "df.nunique()"
   ]
  },
  {
   "cell_type": "code",
   "execution_count": 8,
   "id": "c4d73a16",
   "metadata": {},
   "outputs": [
    {
     "data": {
      "text/plain": [
       "0"
      ]
     },
     "execution_count": 8,
     "metadata": {},
     "output_type": "execute_result"
    }
   ],
   "source": [
    "#To check the duplicate values in the dataset\n",
    "df.duplicated().sum()"
   ]
  },
  {
   "cell_type": "code",
   "execution_count": 9,
   "id": "fcb3d4c8",
   "metadata": {
    "scrolled": true
   },
   "outputs": [
    {
     "data": {
      "text/html": [
       "<div>\n",
       "<style scoped>\n",
       "    .dataframe tbody tr th:only-of-type {\n",
       "        vertical-align: middle;\n",
       "    }\n",
       "\n",
       "    .dataframe tbody tr th {\n",
       "        vertical-align: top;\n",
       "    }\n",
       "\n",
       "    .dataframe thead th {\n",
       "        text-align: right;\n",
       "    }\n",
       "</style>\n",
       "<table border=\"1\" class=\"dataframe\">\n",
       "  <thead>\n",
       "    <tr style=\"text-align: right;\">\n",
       "      <th></th>\n",
       "      <th>step</th>\n",
       "      <th>type</th>\n",
       "      <th>amount</th>\n",
       "      <th>nameOrig</th>\n",
       "      <th>oldbalanceOrg</th>\n",
       "      <th>newbalanceOrig</th>\n",
       "      <th>nameDest</th>\n",
       "      <th>oldbalanceDest</th>\n",
       "      <th>newbalanceDest</th>\n",
       "      <th>isFraud</th>\n",
       "      <th>isFlaggedFraud</th>\n",
       "    </tr>\n",
       "  </thead>\n",
       "  <tbody>\n",
       "    <tr>\n",
       "      <th>count</th>\n",
       "      <td>6999.000000</td>\n",
       "      <td>6999</td>\n",
       "      <td>6.999000e+03</td>\n",
       "      <td>6999</td>\n",
       "      <td>6.999000e+03</td>\n",
       "      <td>6.999000e+03</td>\n",
       "      <td>6999</td>\n",
       "      <td>6.999000e+03</td>\n",
       "      <td>6.999000e+03</td>\n",
       "      <td>6999.000000</td>\n",
       "      <td>6999.0</td>\n",
       "    </tr>\n",
       "    <tr>\n",
       "      <th>unique</th>\n",
       "      <td>NaN</td>\n",
       "      <td>5</td>\n",
       "      <td>NaN</td>\n",
       "      <td>6999</td>\n",
       "      <td>NaN</td>\n",
       "      <td>NaN</td>\n",
       "      <td>4647</td>\n",
       "      <td>NaN</td>\n",
       "      <td>NaN</td>\n",
       "      <td>NaN</td>\n",
       "      <td>NaN</td>\n",
       "    </tr>\n",
       "    <tr>\n",
       "      <th>top</th>\n",
       "      <td>NaN</td>\n",
       "      <td>PAYMENT</td>\n",
       "      <td>NaN</td>\n",
       "      <td>C1049202430</td>\n",
       "      <td>NaN</td>\n",
       "      <td>NaN</td>\n",
       "      <td>C985934102</td>\n",
       "      <td>NaN</td>\n",
       "      <td>NaN</td>\n",
       "      <td>NaN</td>\n",
       "      <td>NaN</td>\n",
       "    </tr>\n",
       "    <tr>\n",
       "      <th>freq</th>\n",
       "      <td>NaN</td>\n",
       "      <td>3835</td>\n",
       "      <td>NaN</td>\n",
       "      <td>1</td>\n",
       "      <td>NaN</td>\n",
       "      <td>NaN</td>\n",
       "      <td>41</td>\n",
       "      <td>NaN</td>\n",
       "      <td>NaN</td>\n",
       "      <td>NaN</td>\n",
       "      <td>NaN</td>\n",
       "    </tr>\n",
       "    <tr>\n",
       "      <th>mean</th>\n",
       "      <td>4.191456</td>\n",
       "      <td>NaN</td>\n",
       "      <td>1.040798e+05</td>\n",
       "      <td>NaN</td>\n",
       "      <td>9.224526e+05</td>\n",
       "      <td>9.454632e+05</td>\n",
       "      <td>NaN</td>\n",
       "      <td>9.145834e+05</td>\n",
       "      <td>1.071532e+06</td>\n",
       "      <td>0.006001</td>\n",
       "      <td>0.0</td>\n",
       "    </tr>\n",
       "    <tr>\n",
       "      <th>std</th>\n",
       "      <td>2.479451</td>\n",
       "      <td>NaN</td>\n",
       "      <td>2.580437e+05</td>\n",
       "      <td>NaN</td>\n",
       "      <td>2.176326e+06</td>\n",
       "      <td>2.225161e+06</td>\n",
       "      <td>NaN</td>\n",
       "      <td>2.616480e+06</td>\n",
       "      <td>2.951308e+06</td>\n",
       "      <td>0.077238</td>\n",
       "      <td>0.0</td>\n",
       "    </tr>\n",
       "    <tr>\n",
       "      <th>min</th>\n",
       "      <td>1.000000</td>\n",
       "      <td>NaN</td>\n",
       "      <td>6.360000e+00</td>\n",
       "      <td>NaN</td>\n",
       "      <td>0.000000e+00</td>\n",
       "      <td>0.000000e+00</td>\n",
       "      <td>NaN</td>\n",
       "      <td>0.000000e+00</td>\n",
       "      <td>0.000000e+00</td>\n",
       "      <td>0.000000</td>\n",
       "      <td>0.0</td>\n",
       "    </tr>\n",
       "    <tr>\n",
       "      <th>25%</th>\n",
       "      <td>1.000000</td>\n",
       "      <td>NaN</td>\n",
       "      <td>4.382275e+03</td>\n",
       "      <td>NaN</td>\n",
       "      <td>1.440000e+02</td>\n",
       "      <td>0.000000e+00</td>\n",
       "      <td>NaN</td>\n",
       "      <td>0.000000e+00</td>\n",
       "      <td>0.000000e+00</td>\n",
       "      <td>0.000000</td>\n",
       "      <td>0.0</td>\n",
       "    </tr>\n",
       "    <tr>\n",
       "      <th>50%</th>\n",
       "      <td>5.000000</td>\n",
       "      <td>NaN</td>\n",
       "      <td>1.291033e+04</td>\n",
       "      <td>NaN</td>\n",
       "      <td>2.156600e+04</td>\n",
       "      <td>1.043074e+04</td>\n",
       "      <td>NaN</td>\n",
       "      <td>0.000000e+00</td>\n",
       "      <td>0.000000e+00</td>\n",
       "      <td>0.000000</td>\n",
       "      <td>0.0</td>\n",
       "    </tr>\n",
       "    <tr>\n",
       "      <th>75%</th>\n",
       "      <td>7.000000</td>\n",
       "      <td>NaN</td>\n",
       "      <td>1.165434e+05</td>\n",
       "      <td>NaN</td>\n",
       "      <td>1.992600e+05</td>\n",
       "      <td>1.975082e+05</td>\n",
       "      <td>NaN</td>\n",
       "      <td>2.816560e+05</td>\n",
       "      <td>2.466359e+05</td>\n",
       "      <td>0.000000</td>\n",
       "      <td>0.0</td>\n",
       "    </tr>\n",
       "    <tr>\n",
       "      <th>max</th>\n",
       "      <td>7.000000</td>\n",
       "      <td>NaN</td>\n",
       "      <td>1.000000e+07</td>\n",
       "      <td>NaN</td>\n",
       "      <td>1.290000e+07</td>\n",
       "      <td>1.300000e+07</td>\n",
       "      <td>NaN</td>\n",
       "      <td>1.950000e+07</td>\n",
       "      <td>1.920000e+07</td>\n",
       "      <td>1.000000</td>\n",
       "      <td>0.0</td>\n",
       "    </tr>\n",
       "  </tbody>\n",
       "</table>\n",
       "</div>"
      ],
      "text/plain": [
       "               step     type        amount     nameOrig  oldbalanceOrg   \n",
       "count   6999.000000     6999  6.999000e+03         6999   6.999000e+03  \\\n",
       "unique          NaN        5           NaN         6999            NaN   \n",
       "top             NaN  PAYMENT           NaN  C1049202430            NaN   \n",
       "freq            NaN     3835           NaN            1            NaN   \n",
       "mean       4.191456      NaN  1.040798e+05          NaN   9.224526e+05   \n",
       "std        2.479451      NaN  2.580437e+05          NaN   2.176326e+06   \n",
       "min        1.000000      NaN  6.360000e+00          NaN   0.000000e+00   \n",
       "25%        1.000000      NaN  4.382275e+03          NaN   1.440000e+02   \n",
       "50%        5.000000      NaN  1.291033e+04          NaN   2.156600e+04   \n",
       "75%        7.000000      NaN  1.165434e+05          NaN   1.992600e+05   \n",
       "max        7.000000      NaN  1.000000e+07          NaN   1.290000e+07   \n",
       "\n",
       "        newbalanceOrig    nameDest  oldbalanceDest  newbalanceDest   \n",
       "count     6.999000e+03        6999    6.999000e+03    6.999000e+03  \\\n",
       "unique             NaN        4647             NaN             NaN   \n",
       "top                NaN  C985934102             NaN             NaN   \n",
       "freq               NaN          41             NaN             NaN   \n",
       "mean      9.454632e+05         NaN    9.145834e+05    1.071532e+06   \n",
       "std       2.225161e+06         NaN    2.616480e+06    2.951308e+06   \n",
       "min       0.000000e+00         NaN    0.000000e+00    0.000000e+00   \n",
       "25%       0.000000e+00         NaN    0.000000e+00    0.000000e+00   \n",
       "50%       1.043074e+04         NaN    0.000000e+00    0.000000e+00   \n",
       "75%       1.975082e+05         NaN    2.816560e+05    2.466359e+05   \n",
       "max       1.300000e+07         NaN    1.950000e+07    1.920000e+07   \n",
       "\n",
       "            isFraud  isFlaggedFraud  \n",
       "count   6999.000000          6999.0  \n",
       "unique          NaN             NaN  \n",
       "top             NaN             NaN  \n",
       "freq            NaN             NaN  \n",
       "mean       0.006001             0.0  \n",
       "std        0.077238             0.0  \n",
       "min        0.000000             0.0  \n",
       "25%        0.000000             0.0  \n",
       "50%        0.000000             0.0  \n",
       "75%        0.000000             0.0  \n",
       "max        1.000000             0.0  "
      ]
     },
     "execution_count": 9,
     "metadata": {},
     "output_type": "execute_result"
    }
   ],
   "source": [
    "# To Check the describe analysis of the data\n",
    "df.describe(include=\"all\")"
   ]
  },
  {
   "cell_type": "markdown",
   "id": "2ea9747d",
   "metadata": {},
   "source": [
    "# Outliers detection\n",
    "\n",
    "   - we have to remove this outliers in data frame. because outliers make a data leakage in model  train and  test \n",
    "     so we have  remove this outliers in data frame"
   ]
  },
  {
   "cell_type": "code",
   "execution_count": 10,
   "id": "ae0cae1a",
   "metadata": {},
   "outputs": [
    {
     "data": {
      "image/png": "[encoded data removed]",
      "text/plain": [
       "<Figure size 1200x1000 with 1 Axes>"
      ]
     },
     "metadata": {},
     "output_type": "display_data"
    }
   ],
   "source": [
    "plt.figure(figsize=(12,10)) \n",
    "sns.boxplot(df)\n",
    "plt.show()"
   ]
  },
  {
   "cell_type": "code",
   "execution_count": 11,
   "id": "f1a99f9f",
   "metadata": {},
   "outputs": [
    {
     "data": {
      "text/plain": [
       "Index(['step', 'type', 'amount', 'nameOrig', 'oldbalanceOrg', 'newbalanceOrig',\n",
       "       'nameDest', 'oldbalanceDest', 'newbalanceDest', 'isFraud',\n",
       "       'isFlaggedFraud'],\n",
       "      dtype='object')"
      ]
     },
     "execution_count": 11,
     "metadata": {},
     "output_type": "execute_result"
    }
   ],
   "source": [
    "df.columns"
   ]
  },
  {
   "cell_type": "code",
   "execution_count": 12,
   "id": "8e2cba8a",
   "metadata": {},
   "outputs": [
    {
     "name": "stdout",
     "output_type": "stream",
     "text": [
      "q1 = 1.0\n",
      "q3 = 7.0\n",
      "IQR = 6.0\n",
      "lower_range = -8.0\n",
      "upper_range = 13.0\n"
     ]
    }
   ],
   "source": [
    "#handling outlier in step\n",
    "q1=df['step'].quantile(0.25)\n",
    "q3=df['step'].quantile(0.75)\n",
    "IQR=q3-q1\n",
    "lower_range=q1-1.5*IQR\n",
    "upper_range=q3+IQR \n",
    "\n",
    "print(f\"q1 = {q1}\\nq3 = {q3}\\nIQR = {IQR}\\nlower_range = {lower_range}\\nupper_range = {upper_range}\")"
   ]
  },
  {
   "cell_type": "code",
   "execution_count": 13,
   "id": "1d786cfd",
   "metadata": {},
   "outputs": [
    {
     "data": {
      "text/plain": [
       "0       7.0\n",
       "1       6.0\n",
       "2       1.0\n",
       "3       2.0\n",
       "4       7.0\n",
       "       ... \n",
       "6994    7.0\n",
       "6995    7.0\n",
       "6996    5.0\n",
       "6997    1.0\n",
       "6998    2.0\n",
       "Name: step, Length: 6999, dtype: float64"
      ]
     },
     "execution_count": 13,
     "metadata": {},
     "output_type": "execute_result"
    }
   ],
   "source": [
    "#capping\n",
    "df['step']=np.where(df['step']<lower_range,lower_range,\n",
    "                      np.where(df['step']>upper_range,upper_range,\n",
    "                      df['step']))\n",
    "df['step']"
   ]
  },
  {
   "cell_type": "code",
   "execution_count": 14,
   "id": "83544694",
   "metadata": {},
   "outputs": [
    {
     "name": "stdout",
     "output_type": "stream",
     "text": [
      "q1 = 4382.275\n",
      "q3 = 116543.39499999999\n",
      "IQR = 112161.12\n",
      "lower_range = -163859.405\n",
      "upper_range = 228704.51499999998\n"
     ]
    }
   ],
   "source": [
    "#handling outlier in step\n",
    "q1=df['amount'].quantile(0.25)\n",
    "q3=df['amount'].quantile(0.75)\n",
    "IQR=q3-q1\n",
    "lower_range=q1-1.5*IQR\n",
    "upper_range=q3+IQR \n",
    "\n",
    "print(f\"q1 = {q1}\\nq3 = {q3}\\nIQR = {IQR}\\nlower_range = {lower_range}\\nupper_range = {upper_range}\")"
   ]
  },
  {
   "cell_type": "code",
   "execution_count": 15,
   "id": "63c72386",
   "metadata": {},
   "outputs": [
    {
     "data": {
      "text/plain": [
       "0       228704.515\n",
       "1         4197.940\n",
       "2        13310.780\n",
       "3        11762.790\n",
       "4         4736.450\n",
       "           ...    \n",
       "6994     52429.680\n",
       "6995     65619.810\n",
       "6996      3445.140\n",
       "6997      2380.210\n",
       "6998      4640.640\n",
       "Name: amount, Length: 6999, dtype: float64"
      ]
     },
     "execution_count": 15,
     "metadata": {},
     "output_type": "execute_result"
    }
   ],
   "source": [
    "#capping\n",
    "df['amount']=np.where(df['amount']<lower_range,lower_range,\n",
    "                      np.where(df['amount']>upper_range,upper_range,\n",
    "                      df['amount']))\n",
    "df['amount']"
   ]
  },
  {
   "cell_type": "code",
   "execution_count": 16,
   "id": "f51c82b5",
   "metadata": {},
   "outputs": [
    {
     "name": "stdout",
     "output_type": "stream",
     "text": [
      "q1 = 144.0\n",
      "q3 = 199259.96000000002\n",
      "IQR = 199115.96000000002\n",
      "lower_range = -298529.94000000006\n",
      "upper_range = 398375.92000000004\n"
     ]
    }
   ],
   "source": [
    "#handling outlier in step\n",
    "q1=df['oldbalanceOrg'].quantile(0.25)\n",
    "q3=df['oldbalanceOrg'].quantile(0.75)\n",
    "IQR=q3-q1\n",
    "lower_range=q1-1.5*IQR\n",
    "upper_range=q3+IQR \n",
    "\n",
    "print(f\"q1 = {q1}\\nq3 = {q3}\\nIQR = {IQR}\\nlower_range = {lower_range}\\nupper_range = {upper_range}\")"
   ]
  },
  {
   "cell_type": "code",
   "execution_count": 17,
   "id": "714c1140",
   "metadata": {},
   "outputs": [
    {
     "data": {
      "text/plain": [
       "0        22680.51\n",
       "1        20129.00\n",
       "2            0.00\n",
       "3            0.00\n",
       "4       196815.00\n",
       "          ...    \n",
       "6994    398375.92\n",
       "6995         0.00\n",
       "6996    283795.44\n",
       "6997    398375.92\n",
       "6998      1023.00\n",
       "Name: oldbalanceOrg, Length: 6999, dtype: float64"
      ]
     },
     "execution_count": 17,
     "metadata": {},
     "output_type": "execute_result"
    }
   ],
   "source": [
    "#capping\n",
    "df['oldbalanceOrg']=np.where(df['oldbalanceOrg']<lower_range,lower_range,\n",
    "                      np.where(df['oldbalanceOrg']>upper_range,upper_range,\n",
    "                      df['oldbalanceOrg']))\n",
    "df['oldbalanceOrg']"
   ]
  },
  {
   "cell_type": "code",
   "execution_count": 18,
   "id": "ca185d7f",
   "metadata": {},
   "outputs": [
    {
     "name": "stdout",
     "output_type": "stream",
     "text": [
      "q1 = 0.0\n",
      "q3 = 197508.19\n",
      "IQR = 197508.19\n",
      "lower_range = -296262.28500000003\n",
      "upper_range = 395016.38\n"
     ]
    }
   ],
   "source": [
    "#handling outlier in step\n",
    "q1=df['newbalanceOrig'].quantile(0.25)\n",
    "q3=df['newbalanceOrig'].quantile(0.75)\n",
    "IQR=q3-q1\n",
    "lower_range=q1-1.5*IQR\n",
    "upper_range=q3+IQR \n",
    "\n",
    "print(f\"q1 = {q1}\\nq3 = {q3}\\nIQR = {IQR}\\nlower_range = {lower_range}\\nupper_range = {upper_range}\")"
   ]
  },
  {
   "cell_type": "code",
   "execution_count": 19,
   "id": "e94ae63e",
   "metadata": {},
   "outputs": [
    {
     "data": {
      "text/plain": [
       "0            0.00\n",
       "1        15931.06\n",
       "2            0.00\n",
       "3            0.00\n",
       "4       192078.55\n",
       "          ...    \n",
       "6994    395016.38\n",
       "6995         0.00\n",
       "6996    280350.31\n",
       "6997    395016.38\n",
       "6998         0.00\n",
       "Name: newbalanceOrig, Length: 6999, dtype: float64"
      ]
     },
     "execution_count": 19,
     "metadata": {},
     "output_type": "execute_result"
    }
   ],
   "source": [
    "#capping\n",
    "df['newbalanceOrig']=np.where(df['newbalanceOrig']<lower_range,lower_range,\n",
    "                      np.where(df['newbalanceOrig']>upper_range,upper_range,\n",
    "                      df['newbalanceOrig']))\n",
    "df['newbalanceOrig']"
   ]
  },
  {
   "cell_type": "code",
   "execution_count": 20,
   "id": "fb76c04f",
   "metadata": {},
   "outputs": [
    {
     "name": "stdout",
     "output_type": "stream",
     "text": [
      "q1 = 0.0\n",
      "q3 = 281656.015\n",
      "IQR = 281656.015\n",
      "lower_range = -422484.0225\n",
      "upper_range = 563312.03\n"
     ]
    }
   ],
   "source": [
    "#handling outlier in step\n",
    "q1=df['oldbalanceDest'].quantile(0.25)\n",
    "q3=df['oldbalanceDest'].quantile(0.75)\n",
    "IQR=q3-q1\n",
    "lower_range=q1-1.5*IQR\n",
    "upper_range=q3+IQR \n",
    "\n",
    "print(f\"q1 = {q1}\\nq3 = {q3}\\nIQR = {IQR}\\nlower_range = {lower_range}\\nupper_range = {upper_range}\")"
   ]
  },
  {
   "cell_type": "code",
   "execution_count": 21,
   "id": "dab3b8d6",
   "metadata": {},
   "outputs": [
    {
     "data": {
      "text/plain": [
       "0       150264.00\n",
       "1            0.00\n",
       "2            0.00\n",
       "3            0.00\n",
       "4            0.00\n",
       "          ...    \n",
       "6994    279027.08\n",
       "6995     84362.06\n",
       "6996         0.00\n",
       "6997         0.00\n",
       "6998         0.00\n",
       "Name: oldbalanceDest, Length: 6999, dtype: float64"
      ]
     },
     "execution_count": 21,
     "metadata": {},
     "output_type": "execute_result"
    }
   ],
   "source": [
    "#capping\n",
    "df['oldbalanceDest']=np.where(df['oldbalanceDest']<lower_range,lower_range,\n",
    "                      np.where(df['oldbalanceDest']>upper_range,upper_range,\n",
    "                      df['oldbalanceDest']))\n",
    "df['oldbalanceDest']"
   ]
  },
  {
   "cell_type": "code",
   "execution_count": 22,
   "id": "2faaf7b9",
   "metadata": {},
   "outputs": [
    {
     "name": "stdout",
     "output_type": "stream",
     "text": [
      "q1 = 0.0\n",
      "q3 = 246635.85\n",
      "IQR = 246635.85\n",
      "lower_range = -369953.775\n",
      "upper_range = 493271.7\n"
     ]
    }
   ],
   "source": [
    "#handling outlier in step\n",
    "q1=df['newbalanceDest'].quantile(0.25)\n",
    "q3=df['newbalanceDest'].quantile(0.75)\n",
    "IQR=q3-q1\n",
    "lower_range=q1-1.5*IQR\n",
    "upper_range=q3+IQR \n",
    "\n",
    "print(f\"q1 = {q1}\\nq3 = {q3}\\nIQR = {IQR}\\nlower_range = {lower_range}\\nupper_range = {upper_range}\")"
   ]
  },
  {
   "cell_type": "code",
   "execution_count": 23,
   "id": "2a93de8a",
   "metadata": {},
   "outputs": [
    {
     "data": {
      "text/plain": [
       "0            0.00\n",
       "1            0.00\n",
       "2            0.00\n",
       "3            0.00\n",
       "4            0.00\n",
       "          ...    \n",
       "6994    226597.40\n",
       "6995     61127.87\n",
       "6996         0.00\n",
       "6997         0.00\n",
       "6998         0.00\n",
       "Name: newbalanceDest, Length: 6999, dtype: float64"
      ]
     },
     "execution_count": 23,
     "metadata": {},
     "output_type": "execute_result"
    }
   ],
   "source": [
    "#capping\n",
    "df['newbalanceDest']=np.where(df['newbalanceDest']<lower_range,lower_range,\n",
    "                      np.where(df['newbalanceDest']>upper_range,upper_range,\n",
    "                      df['newbalanceDest']))\n",
    "df['newbalanceDest']"
   ]
  },
  {
   "cell_type": "code",
   "execution_count": 24,
   "id": "a1ad3bec",
   "metadata": {},
   "outputs": [
    {
     "name": "stdout",
     "output_type": "stream",
     "text": [
      "q1 = 0.0\n",
      "q3 = 0.0\n",
      "IQR = 0.0\n",
      "lower_range = 0.0\n",
      "upper_range = 0.0\n"
     ]
    }
   ],
   "source": [
    "#handling outlier in step\n",
    "q1=df['isFraud'].quantile(0.25)\n",
    "q3=df['isFraud'].quantile(0.75)\n",
    "IQR=q3-q1\n",
    "lower_range=q1-1.5*IQR\n",
    "upper_range=q3+IQR \n",
    "\n",
    "print(f\"q1 = {q1}\\nq3 = {q3}\\nIQR = {IQR}\\nlower_range = {lower_range}\\nupper_range = {upper_range}\")"
   ]
  },
  {
   "cell_type": "code",
   "execution_count": 25,
   "id": "6a9c26af",
   "metadata": {},
   "outputs": [
    {
     "data": {
      "text/plain": [
       "0       0.0\n",
       "1       0.0\n",
       "2       0.0\n",
       "3       0.0\n",
       "4       0.0\n",
       "       ... \n",
       "6994    0.0\n",
       "6995    0.0\n",
       "6996    0.0\n",
       "6997    0.0\n",
       "6998    0.0\n",
       "Name: isFraud, Length: 6999, dtype: float64"
      ]
     },
     "execution_count": 25,
     "metadata": {},
     "output_type": "execute_result"
    }
   ],
   "source": [
    "#capping\n",
    "df['isFraud']=np.where(df['isFraud']<lower_range,lower_range,\n",
    "                      np.where(df['isFraud']>upper_range,upper_range,\n",
    "                      df['isFraud']))\n",
    "df['isFraud']"
   ]
  },
  {
   "cell_type": "code",
   "execution_count": 26,
   "id": "4ae8f236",
   "metadata": {
    "scrolled": false
   },
   "outputs": [
    {
     "data": {
      "image/png": "[encoded data removed]",
      "text/plain": [
       "<Figure size 700x400 with 1 Axes>"
      ]
     },
     "metadata": {},
     "output_type": "display_data"
    },
    {
     "data": {
      "image/png": "[encoded data removed]",
      "text/plain": [
       "<Figure size 700x400 with 1 Axes>"
      ]
     },
     "metadata": {},
     "output_type": "display_data"
    },
    {
     "data": {
      "image/png": "[encoded data removed]",
      "text/plain": [
       "<Figure size 700x400 with 1 Axes>"
      ]
     },
     "metadata": {},
     "output_type": "display_data"
    },
    {
     "data": {
      "image/png": "[encoded data removed]",
      "text/plain": [
       "<Figure size 700x400 with 1 Axes>"
      ]
     },
     "metadata": {},
     "output_type": "display_data"
    },
    {
     "data": {
      "image/png": "[encoded data removed]",
      "text/plain": [
       "<Figure size 700x400 with 1 Axes>"
      ]
     },
     "metadata": {},
     "output_type": "display_data"
    },
    {
     "data": {
      "image/png": "[encoded data removed]",
      "text/plain": [
       "<Figure size 700x400 with 1 Axes>"
      ]
     },
     "metadata": {},
     "output_type": "display_data"
    },
    {
     "data": {
      "image/png": "[encoded data removed]",
      "text/plain": [
       "<Figure size 700x400 with 1 Axes>"
      ]
     },
     "metadata": {},
     "output_type": "display_data"
    }
   ],
   "source": [
    "#Using box plot for finding outliers\n",
    "\n",
    "plt.figure(figsize=(7,4))\n",
    "sns.boxplot(df['step'])\n",
    "plt.title('step')\n",
    "\n",
    "plt.figure(figsize=(7,4))\n",
    "sns.boxplot(df['amount'])\n",
    "plt.title('amount')\n",
    "\n",
    "\n",
    "plt.figure(figsize=(7,4))\n",
    "sns.boxplot(df['oldbalanceOrg'])\n",
    "plt.title('oldbalanceOrg')\n",
    "\n",
    "plt.figure(figsize=(7,4))\n",
    "sns.boxplot(df['newbalanceOrig'])\n",
    "plt.title('newbalanceOrig')\n",
    "\n",
    "\n",
    "plt.figure(figsize=(7,4))\n",
    "sns.boxplot(df['oldbalanceDest'])\n",
    "plt.title('oldbalanceDest')\n",
    "\n",
    "plt.figure(figsize=(7,4))\n",
    "sns.boxplot(df['newbalanceDest'])\n",
    "plt.title('newbalanceDest')\n",
    "\n",
    "plt.figure(figsize=(7,4))\n",
    "sns.boxplot(df['isFraud'])\n",
    "plt.title('isFraud')\n",
    "\n",
    "\n",
    "\n",
    "plt.show()"
   ]
  },
  {
   "cell_type": "markdown",
   "id": "b3db30cf",
   "metadata": {},
   "source": [
    "##  Feature Engineering\n",
    "\n",
    "   |Feature Engineering is the process of extracting and organizing the important feature from raw data \n",
    "      in such a way that if fits the purpose of the machine learning model.|"
   ]
  },
  {
   "cell_type": "code",
   "execution_count": 27,
   "id": "9774db7b",
   "metadata": {},
   "outputs": [],
   "source": [
    "# Target and Labels\n",
    "df.copy()\n",
    "X =df.drop(['isFraud','isFlaggedFraud'],axis=1).copy()\n",
    "Y =df['isFraud'].copy()\n",
    "\n"
   ]
  },
  {
   "cell_type": "code",
   "execution_count": 28,
   "id": "64573265",
   "metadata": {},
   "outputs": [
    {
     "data": {
      "text/html": [
       "<div>\n",
       "<style scoped>\n",
       "    .dataframe tbody tr th:only-of-type {\n",
       "        vertical-align: middle;\n",
       "    }\n",
       "\n",
       "    .dataframe tbody tr th {\n",
       "        vertical-align: top;\n",
       "    }\n",
       "\n",
       "    .dataframe thead th {\n",
       "        text-align: right;\n",
       "    }\n",
       "</style>\n",
       "<table border=\"1\" class=\"dataframe\">\n",
       "  <thead>\n",
       "    <tr style=\"text-align: right;\">\n",
       "      <th></th>\n",
       "      <th>step</th>\n",
       "      <th>type</th>\n",
       "      <th>amount</th>\n",
       "      <th>nameOrig</th>\n",
       "      <th>oldbalanceOrg</th>\n",
       "      <th>newbalanceOrig</th>\n",
       "      <th>nameDest</th>\n",
       "      <th>oldbalanceDest</th>\n",
       "      <th>newbalanceDest</th>\n",
       "    </tr>\n",
       "  </thead>\n",
       "  <tbody>\n",
       "    <tr>\n",
       "      <th>0</th>\n",
       "      <td>7.0</td>\n",
       "      <td>CASH_OUT</td>\n",
       "      <td>228704.515</td>\n",
       "      <td>C1049202430</td>\n",
       "      <td>22680.51</td>\n",
       "      <td>0.00</td>\n",
       "      <td>C93518808</td>\n",
       "      <td>150264.00</td>\n",
       "      <td>0.00</td>\n",
       "    </tr>\n",
       "    <tr>\n",
       "      <th>1</th>\n",
       "      <td>6.0</td>\n",
       "      <td>PAYMENT</td>\n",
       "      <td>4197.940</td>\n",
       "      <td>C2051611232</td>\n",
       "      <td>20129.00</td>\n",
       "      <td>15931.06</td>\n",
       "      <td>M134963352</td>\n",
       "      <td>0.00</td>\n",
       "      <td>0.00</td>\n",
       "    </tr>\n",
       "    <tr>\n",
       "      <th>2</th>\n",
       "      <td>1.0</td>\n",
       "      <td>PAYMENT</td>\n",
       "      <td>13310.780</td>\n",
       "      <td>C2095677157</td>\n",
       "      <td>0.00</td>\n",
       "      <td>0.00</td>\n",
       "      <td>M852026681</td>\n",
       "      <td>0.00</td>\n",
       "      <td>0.00</td>\n",
       "    </tr>\n",
       "    <tr>\n",
       "      <th>3</th>\n",
       "      <td>2.0</td>\n",
       "      <td>PAYMENT</td>\n",
       "      <td>11762.790</td>\n",
       "      <td>C909914828</td>\n",
       "      <td>0.00</td>\n",
       "      <td>0.00</td>\n",
       "      <td>M116650158</td>\n",
       "      <td>0.00</td>\n",
       "      <td>0.00</td>\n",
       "    </tr>\n",
       "    <tr>\n",
       "      <th>4</th>\n",
       "      <td>7.0</td>\n",
       "      <td>PAYMENT</td>\n",
       "      <td>4736.450</td>\n",
       "      <td>C1160393458</td>\n",
       "      <td>196815.00</td>\n",
       "      <td>192078.55</td>\n",
       "      <td>M766991922</td>\n",
       "      <td>0.00</td>\n",
       "      <td>0.00</td>\n",
       "    </tr>\n",
       "    <tr>\n",
       "      <th>...</th>\n",
       "      <td>...</td>\n",
       "      <td>...</td>\n",
       "      <td>...</td>\n",
       "      <td>...</td>\n",
       "      <td>...</td>\n",
       "      <td>...</td>\n",
       "      <td>...</td>\n",
       "      <td>...</td>\n",
       "      <td>...</td>\n",
       "    </tr>\n",
       "    <tr>\n",
       "      <th>6994</th>\n",
       "      <td>7.0</td>\n",
       "      <td>CASH_IN</td>\n",
       "      <td>52429.680</td>\n",
       "      <td>C1904553846</td>\n",
       "      <td>398375.92</td>\n",
       "      <td>395016.38</td>\n",
       "      <td>C1882860489</td>\n",
       "      <td>279027.08</td>\n",
       "      <td>226597.40</td>\n",
       "    </tr>\n",
       "    <tr>\n",
       "      <th>6995</th>\n",
       "      <td>7.0</td>\n",
       "      <td>CASH_OUT</td>\n",
       "      <td>65619.810</td>\n",
       "      <td>C1167627805</td>\n",
       "      <td>0.00</td>\n",
       "      <td>0.00</td>\n",
       "      <td>C1850042097</td>\n",
       "      <td>84362.06</td>\n",
       "      <td>61127.87</td>\n",
       "    </tr>\n",
       "    <tr>\n",
       "      <th>6996</th>\n",
       "      <td>5.0</td>\n",
       "      <td>PAYMENT</td>\n",
       "      <td>3445.140</td>\n",
       "      <td>C532068603</td>\n",
       "      <td>283795.44</td>\n",
       "      <td>280350.31</td>\n",
       "      <td>M345865414</td>\n",
       "      <td>0.00</td>\n",
       "      <td>0.00</td>\n",
       "    </tr>\n",
       "    <tr>\n",
       "      <th>6997</th>\n",
       "      <td>1.0</td>\n",
       "      <td>PAYMENT</td>\n",
       "      <td>2380.210</td>\n",
       "      <td>C535352603</td>\n",
       "      <td>398375.92</td>\n",
       "      <td>395016.38</td>\n",
       "      <td>M2015261478</td>\n",
       "      <td>0.00</td>\n",
       "      <td>0.00</td>\n",
       "    </tr>\n",
       "    <tr>\n",
       "      <th>6998</th>\n",
       "      <td>2.0</td>\n",
       "      <td>PAYMENT</td>\n",
       "      <td>4640.640</td>\n",
       "      <td>C179455108</td>\n",
       "      <td>1023.00</td>\n",
       "      <td>0.00</td>\n",
       "      <td>M1424243710</td>\n",
       "      <td>0.00</td>\n",
       "      <td>0.00</td>\n",
       "    </tr>\n",
       "  </tbody>\n",
       "</table>\n",
       "<p>6999 rows × 9 columns</p>\n",
       "</div>"
      ],
      "text/plain": [
       "      step      type      amount     nameOrig  oldbalanceOrg  newbalanceOrig   \n",
       "0      7.0  CASH_OUT  228704.515  C1049202430       22680.51            0.00  \\\n",
       "1      6.0   PAYMENT    4197.940  C2051611232       20129.00        15931.06   \n",
       "2      1.0   PAYMENT   13310.780  C2095677157           0.00            0.00   \n",
       "3      2.0   PAYMENT   11762.790   C909914828           0.00            0.00   \n",
       "4      7.0   PAYMENT    4736.450  C1160393458      196815.00       192078.55   \n",
       "...    ...       ...         ...          ...            ...             ...   \n",
       "6994   7.0   CASH_IN   52429.680  C1904553846      398375.92       395016.38   \n",
       "6995   7.0  CASH_OUT   65619.810  C1167627805           0.00            0.00   \n",
       "6996   5.0   PAYMENT    3445.140   C532068603      283795.44       280350.31   \n",
       "6997   1.0   PAYMENT    2380.210   C535352603      398375.92       395016.38   \n",
       "6998   2.0   PAYMENT    4640.640   C179455108        1023.00            0.00   \n",
       "\n",
       "         nameDest  oldbalanceDest  newbalanceDest  \n",
       "0       C93518808       150264.00            0.00  \n",
       "1      M134963352            0.00            0.00  \n",
       "2      M852026681            0.00            0.00  \n",
       "3      M116650158            0.00            0.00  \n",
       "4      M766991922            0.00            0.00  \n",
       "...           ...             ...             ...  \n",
       "6994  C1882860489       279027.08       226597.40  \n",
       "6995  C1850042097        84362.06        61127.87  \n",
       "6996   M345865414            0.00            0.00  \n",
       "6997  M2015261478            0.00            0.00  \n",
       "6998  M1424243710            0.00            0.00  \n",
       "\n",
       "[6999 rows x 9 columns]"
      ]
     },
     "execution_count": 28,
     "metadata": {},
     "output_type": "execute_result"
    }
   ],
   "source": [
    "X"
   ]
  },
  {
   "cell_type": "code",
   "execution_count": 29,
   "id": "5bc9e927",
   "metadata": {},
   "outputs": [
    {
     "data": {
      "text/plain": [
       "0       0.0\n",
       "1       0.0\n",
       "2       0.0\n",
       "3       0.0\n",
       "4       0.0\n",
       "       ... \n",
       "6994    0.0\n",
       "6995    0.0\n",
       "6996    0.0\n",
       "6997    0.0\n",
       "6998    0.0\n",
       "Name: isFraud, Length: 6999, dtype: float64"
      ]
     },
     "execution_count": 29,
     "metadata": {},
     "output_type": "execute_result"
    }
   ],
   "source": [
    "Y"
   ]
  },
  {
   "cell_type": "markdown",
   "id": "af37eb84",
   "metadata": {},
   "source": [
    "    - *The above method seperates the features and labels from the data. The label variable are copied into y\n",
    "      and the remaining features are copied into x.*"
   ]
  },
  {
   "cell_type": "markdown",
   "id": "6dd10a4a",
   "metadata": {},
   "source": [
    "# Feature Encoding\n",
    "\n",
    "  - Feature encoding is the process of transforming the categoriacl datas into numercial data. By transforming \n",
    "    the data our machine learning model can understand the data"
   ]
  },
  {
   "cell_type": "code",
   "execution_count": 30,
   "id": "a8070d99",
   "metadata": {},
   "outputs": [],
   "source": [
    "from sklearn.preprocessing import OrdinalEncoder\n",
    "from sklearn.model_selection import train_test_split"
   ]
  },
  {
   "cell_type": "code",
   "execution_count": 31,
   "id": "8053df46",
   "metadata": {},
   "outputs": [],
   "source": [
    "# Encoding feature\n",
    "encoder =OrdinalEncoder()\n",
    "X_encode=encoder.fit(X)\n",
    "import joblib as jb\n",
    "jb.dump(X_encode,'file/train/model/train_encode_model.pkl')\n",
    "X_encode=encoder.transform(X)\n",
    "X=pd.DataFrame(X_encode, columns=X.columns)"
   ]
  },
  {
   "cell_type": "code",
   "execution_count": 32,
   "id": "02b39494",
   "metadata": {},
   "outputs": [
    {
     "data": {
      "text/html": [
       "<div>\n",
       "<style scoped>\n",
       "    .dataframe tbody tr th:only-of-type {\n",
       "        vertical-align: middle;\n",
       "    }\n",
       "\n",
       "    .dataframe tbody tr th {\n",
       "        vertical-align: top;\n",
       "    }\n",
       "\n",
       "    .dataframe thead th {\n",
       "        text-align: right;\n",
       "    }\n",
       "</style>\n",
       "<table border=\"1\" class=\"dataframe\">\n",
       "  <thead>\n",
       "    <tr style=\"text-align: right;\">\n",
       "      <th></th>\n",
       "      <th>step</th>\n",
       "      <th>type</th>\n",
       "      <th>amount</th>\n",
       "      <th>nameOrig</th>\n",
       "      <th>oldbalanceOrg</th>\n",
       "      <th>newbalanceOrig</th>\n",
       "      <th>nameDest</th>\n",
       "      <th>oldbalanceDest</th>\n",
       "      <th>newbalanceDest</th>\n",
       "    </tr>\n",
       "  </thead>\n",
       "  <tbody>\n",
       "    <tr>\n",
       "      <th>0</th>\n",
       "      <td>6.0</td>\n",
       "      <td>1.0</td>\n",
       "      <td>6025.0</td>\n",
       "      <td>165.0</td>\n",
       "      <td>1762.0</td>\n",
       "      <td>0.0</td>\n",
       "      <td>785.0</td>\n",
       "      <td>902.0</td>\n",
       "      <td>0.0</td>\n",
       "    </tr>\n",
       "    <tr>\n",
       "      <th>1</th>\n",
       "      <td>5.0</td>\n",
       "      <td>3.0</td>\n",
       "      <td>1682.0</td>\n",
       "      <td>3863.0</td>\n",
       "      <td>1547.0</td>\n",
       "      <td>912.0</td>\n",
       "      <td>1467.0</td>\n",
       "      <td>0.0</td>\n",
       "      <td>0.0</td>\n",
       "    </tr>\n",
       "    <tr>\n",
       "      <th>2</th>\n",
       "      <td>0.0</td>\n",
       "      <td>3.0</td>\n",
       "      <td>3533.0</td>\n",
       "      <td>4029.0</td>\n",
       "      <td>0.0</td>\n",
       "      <td>0.0</td>\n",
       "      <td>4366.0</td>\n",
       "      <td>0.0</td>\n",
       "      <td>0.0</td>\n",
       "    </tr>\n",
       "    <tr>\n",
       "      <th>3</th>\n",
       "      <td>1.0</td>\n",
       "      <td>3.0</td>\n",
       "      <td>3364.0</td>\n",
       "      <td>6685.0</td>\n",
       "      <td>0.0</td>\n",
       "      <td>0.0</td>\n",
       "      <td>1133.0</td>\n",
       "      <td>0.0</td>\n",
       "      <td>0.0</td>\n",
       "    </tr>\n",
       "    <tr>\n",
       "      <th>4</th>\n",
       "      <td>6.0</td>\n",
       "      <td>3.0</td>\n",
       "      <td>1855.0</td>\n",
       "      <td>515.0</td>\n",
       "      <td>3427.0</td>\n",
       "      <td>2420.0</td>\n",
       "      <td>4205.0</td>\n",
       "      <td>0.0</td>\n",
       "      <td>0.0</td>\n",
       "    </tr>\n",
       "    <tr>\n",
       "      <th>...</th>\n",
       "      <td>...</td>\n",
       "      <td>...</td>\n",
       "      <td>...</td>\n",
       "      <td>...</td>\n",
       "      <td>...</td>\n",
       "      <td>...</td>\n",
       "      <td>...</td>\n",
       "      <td>...</td>\n",
       "      <td>...</td>\n",
       "    </tr>\n",
       "    <tr>\n",
       "      <th>6994</th>\n",
       "      <td>6.0</td>\n",
       "      <td>0.0</td>\n",
       "      <td>4609.0</td>\n",
       "      <td>3315.0</td>\n",
       "      <td>3708.0</td>\n",
       "      <td>2693.0</td>\n",
       "      <td>383.0</td>\n",
       "      <td>1269.0</td>\n",
       "      <td>704.0</td>\n",
       "    </tr>\n",
       "    <tr>\n",
       "      <th>6995</th>\n",
       "      <td>6.0</td>\n",
       "      <td>1.0</td>\n",
       "      <td>4746.0</td>\n",
       "      <td>551.0</td>\n",
       "      <td>0.0</td>\n",
       "      <td>0.0</td>\n",
       "      <td>367.0</td>\n",
       "      <td>620.0</td>\n",
       "      <td>406.0</td>\n",
       "    </tr>\n",
       "    <tr>\n",
       "      <th>6996</th>\n",
       "      <td>4.0</td>\n",
       "      <td>3.0</td>\n",
       "      <td>1414.0</td>\n",
       "      <td>5305.0</td>\n",
       "      <td>3600.0</td>\n",
       "      <td>2583.0</td>\n",
       "      <td>3365.0</td>\n",
       "      <td>0.0</td>\n",
       "      <td>0.0</td>\n",
       "    </tr>\n",
       "    <tr>\n",
       "      <th>6997</th>\n",
       "      <td>0.0</td>\n",
       "      <td>3.0</td>\n",
       "      <td>984.0</td>\n",
       "      <td>5315.0</td>\n",
       "      <td>3708.0</td>\n",
       "      <td>2693.0</td>\n",
       "      <td>2825.0</td>\n",
       "      <td>0.0</td>\n",
       "      <td>0.0</td>\n",
       "    </tr>\n",
       "    <tr>\n",
       "      <th>6998</th>\n",
       "      <td>1.0</td>\n",
       "      <td>3.0</td>\n",
       "      <td>1831.0</td>\n",
       "      <td>2898.0</td>\n",
       "      <td>299.0</td>\n",
       "      <td>0.0</td>\n",
       "      <td>1613.0</td>\n",
       "      <td>0.0</td>\n",
       "      <td>0.0</td>\n",
       "    </tr>\n",
       "  </tbody>\n",
       "</table>\n",
       "<p>6999 rows × 9 columns</p>\n",
       "</div>"
      ],
      "text/plain": [
       "      step  type  amount  nameOrig  oldbalanceOrg  newbalanceOrig  nameDest   \n",
       "0      6.0   1.0  6025.0     165.0         1762.0             0.0     785.0  \\\n",
       "1      5.0   3.0  1682.0    3863.0         1547.0           912.0    1467.0   \n",
       "2      0.0   3.0  3533.0    4029.0            0.0             0.0    4366.0   \n",
       "3      1.0   3.0  3364.0    6685.0            0.0             0.0    1133.0   \n",
       "4      6.0   3.0  1855.0     515.0         3427.0          2420.0    4205.0   \n",
       "...    ...   ...     ...       ...            ...             ...       ...   \n",
       "6994   6.0   0.0  4609.0    3315.0         3708.0          2693.0     383.0   \n",
       "6995   6.0   1.0  4746.0     551.0            0.0             0.0     367.0   \n",
       "6996   4.0   3.0  1414.0    5305.0         3600.0          2583.0    3365.0   \n",
       "6997   0.0   3.0   984.0    5315.0         3708.0          2693.0    2825.0   \n",
       "6998   1.0   3.0  1831.0    2898.0          299.0             0.0    1613.0   \n",
       "\n",
       "      oldbalanceDest  newbalanceDest  \n",
       "0              902.0             0.0  \n",
       "1                0.0             0.0  \n",
       "2                0.0             0.0  \n",
       "3                0.0             0.0  \n",
       "4                0.0             0.0  \n",
       "...              ...             ...  \n",
       "6994          1269.0           704.0  \n",
       "6995           620.0           406.0  \n",
       "6996             0.0             0.0  \n",
       "6997             0.0             0.0  \n",
       "6998             0.0             0.0  \n",
       "\n",
       "[6999 rows x 9 columns]"
      ]
     },
     "execution_count": 32,
     "metadata": {},
     "output_type": "execute_result"
    }
   ],
   "source": [
    "X"
   ]
  },
  {
   "cell_type": "code",
   "execution_count": 33,
   "id": "77365073",
   "metadata": {},
   "outputs": [],
   "source": [
    "X.to_csv('file/train/Processed/encoded_processed.csv',index=False)"
   ]
  },
  {
   "cell_type": "markdown",
   "id": "4f70790f",
   "metadata": {},
   "source": [
    "# Splitting train and test datas"
   ]
  },
  {
   "cell_type": "code",
   "execution_count": 34,
   "id": "8a235e8e",
   "metadata": {},
   "outputs": [],
   "source": [
    "X_train,X_test,Y_train,Y_test= train_test_split(X,Y, train_size=0.7, shuffle=True, random_state=123)"
   ]
  },
  {
   "cell_type": "markdown",
   "id": "2b86e30e",
   "metadata": {},
   "source": [
    " - This splits the data into test and train using train_test_split function. The x and y variables are seperated into\n",
    "   x_train,x_test,y_train and y_test at a train_size of 0.7(ie, 70% of the data). The shuffle=True function randomly shuffles \n",
    "   the data with a random state of 123"
   ]
  },
  {
   "cell_type": "code",
   "execution_count": 35,
   "id": "26be59d7",
   "metadata": {},
   "outputs": [],
   "source": [
    "# save train and test data\n",
    "X_train.to_csv('file/train/raw/X_train.csv',index=False)\n",
    "Y_train.to_csv('file/train/raw/Y_train.csv',index=False)\n",
    "\n",
    "X_test.to_csv('file/evaluate/raw/X_test.csv',index=False)\n",
    "Y_test.to_csv('file/evaluate/raw/Y_test.csv',index=False)"
   ]
  },
  {
   "cell_type": "markdown",
   "id": "0e6f9308",
   "metadata": {},
   "source": [
    "# Model Training\n",
    "\n",
    "\n",
    "\n",
    "\n",
    "\n",
    "\n",
    "- **Model training is a process in which a machine learning algorithm is fed with training data from which it can learn.**"
   ]
  },
  {
   "cell_type": "code",
   "execution_count": 36,
   "id": "e5d153e8",
   "metadata": {},
   "outputs": [],
   "source": [
    "from sklearn.ensemble import RandomForestRegressor"
   ]
  },
  {
   "cell_type": "code",
   "execution_count": 37,
   "id": "cd99f335",
   "metadata": {},
   "outputs": [
    {
     "name": "stdout",
     "output_type": "stream",
     "text": [
      "Train score: 100.0\n"
     ]
    }
   ],
   "source": [
    "reg =RandomForestRegressor()\n",
    "reg.fit(X_train,Y_train)\n",
    "print('Train score:',reg.score(X_train,Y_train)* 100)"
   ]
  },
  {
   "cell_type": "code",
   "execution_count": 38,
   "id": "c78bed54",
   "metadata": {},
   "outputs": [
    {
     "data": {
      "text/plain": [
       "['file/train/model/reg.pkl']"
      ]
     },
     "execution_count": 38,
     "metadata": {},
     "output_type": "execute_result"
    }
   ],
   "source": [
    "import joblib as jb\n",
    "jb.dump(reg,'file/train/model/reg.pkl')    "
   ]
  },
  {
   "cell_type": "markdown",
   "id": "2f24dd8f",
   "metadata": {},
   "source": [
    "# Prediction"
   ]
  },
  {
   "cell_type": "code",
   "execution_count": 39,
   "id": "97f9c05f",
   "metadata": {},
   "outputs": [],
   "source": [
    "model=jb.load('file/train/model/reg.pkl')\n",
    "\n"
   ]
  },
  {
   "cell_type": "code",
   "execution_count": 40,
   "id": "b868e9fe",
   "metadata": {},
   "outputs": [
    {
     "data": {
      "text/html": [
       "<style>#sk-container-id-1 {color: black;}#sk-container-id-1 pre{padding: 0;}#sk-container-id-1 div.sk-toggleable {background-color: white;}#sk-container-id-1 label.sk-toggleable__label {cursor: pointer;display: block;width: 100%;margin-bottom: 0;padding: 0.3em;box-sizing: border-box;text-align: center;}#sk-container-id-1 label.sk-toggleable__label-arrow:before {content: \"▸\";float: left;margin-right: 0.25em;color: #696969;}#sk-container-id-1 label.sk-toggleable__label-arrow:hover:before {color: black;}#sk-container-id-1 div.sk-estimator:hover label.sk-toggleable__label-arrow:before {color: black;}#sk-container-id-1 div.sk-toggleable__content {max-height: 0;max-width: 0;overflow: hidden;text-align: left;background-color: #f0f8ff;}#sk-container-id-1 div.sk-toggleable__content pre {margin: 0.2em;color: black;border-radius: 0.25em;background-color: #f0f8ff;}#sk-container-id-1 input.sk-toggleable__control:checked~div.sk-toggleable__content {max-height: 200px;max-width: 100%;overflow: auto;}#sk-container-id-1 input.sk-toggleable__control:checked~label.sk-toggleable__label-arrow:before {content: \"▾\";}#sk-container-id-1 div.sk-estimator input.sk-toggleable__control:checked~label.sk-toggleable__label {background-color: #d4ebff;}#sk-container-id-1 div.sk-label input.sk-toggleable__control:checked~label.sk-toggleable__label {background-color: #d4ebff;}#sk-container-id-1 input.sk-hidden--visually {border: 0;clip: rect(1px 1px 1px 1px);clip: rect(1px, 1px, 1px, 1px);height: 1px;margin: -1px;overflow: hidden;padding: 0;position: absolute;width: 1px;}#sk-container-id-1 div.sk-estimator {font-family: monospace;background-color: #f0f8ff;border: 1px dotted black;border-radius: 0.25em;box-sizing: border-box;margin-bottom: 0.5em;}#sk-container-id-1 div.sk-estimator:hover {background-color: #d4ebff;}#sk-container-id-1 div.sk-parallel-item::after {content: \"\";width: 100%;border-bottom: 1px solid gray;flex-grow: 1;}#sk-container-id-1 div.sk-label:hover label.sk-toggleable__label {background-color: #d4ebff;}#sk-container-id-1 div.sk-serial::before {content: \"\";position: absolute;border-left: 1px solid gray;box-sizing: border-box;top: 0;bottom: 0;left: 50%;z-index: 0;}#sk-container-id-1 div.sk-serial {display: flex;flex-direction: column;align-items: center;background-color: white;padding-right: 0.2em;padding-left: 0.2em;position: relative;}#sk-container-id-1 div.sk-item {position: relative;z-index: 1;}#sk-container-id-1 div.sk-parallel {display: flex;align-items: stretch;justify-content: center;background-color: white;position: relative;}#sk-container-id-1 div.sk-item::before, #sk-container-id-1 div.sk-parallel-item::before {content: \"\";position: absolute;border-left: 1px solid gray;box-sizing: border-box;top: 0;bottom: 0;left: 50%;z-index: -1;}#sk-container-id-1 div.sk-parallel-item {display: flex;flex-direction: column;z-index: 1;position: relative;background-color: white;}#sk-container-id-1 div.sk-parallel-item:first-child::after {align-self: flex-end;width: 50%;}#sk-container-id-1 div.sk-parallel-item:last-child::after {align-self: flex-start;width: 50%;}#sk-container-id-1 div.sk-parallel-item:only-child::after {width: 0;}#sk-container-id-1 div.sk-dashed-wrapped {border: 1px dashed gray;margin: 0 0.4em 0.5em 0.4em;box-sizing: border-box;padding-bottom: 0.4em;background-color: white;}#sk-container-id-1 div.sk-label label {font-family: monospace;font-weight: bold;display: inline-block;line-height: 1.2em;}#sk-container-id-1 div.sk-label-container {text-align: center;}#sk-container-id-1 div.sk-container {/* jupyter's `normalize.less` sets `[hidden] { display: none; }` but bootstrap.min.css set `[hidden] { display: none !important; }` so we also need the `!important` here to be able to override the default hidden behavior on the sphinx rendered scikit-learn.org. See: https://github.com/scikit-learn/scikit-learn/issues/21755 */display: inline-block !important;position: relative;}#sk-container-id-1 div.sk-text-repr-fallback {display: none;}</style><div id=\"sk-container-id-1\" class=\"sk-top-container\"><div class=\"sk-text-repr-fallback\"><pre>RandomForestRegressor()</pre><b>In a Jupyter environment, please rerun this cell to show the HTML representation or trust the notebook. <br />On GitHub, the HTML representation is unable to render, please try loading this page with nbviewer.org.</b></div><div class=\"sk-container\" hidden><div class=\"sk-item\"><div class=\"sk-estimator sk-toggleable\"><input class=\"sk-toggleable__control sk-hidden--visually\" id=\"sk-estimator-id-1\" type=\"checkbox\" checked><label for=\"sk-estimator-id-1\" class=\"sk-toggleable__label sk-toggleable__label-arrow\">RandomForestRegressor</label><div class=\"sk-toggleable__content\"><pre>RandomForestRegressor()</pre></div></div></div></div></div>"
      ],
      "text/plain": [
       "RandomForestRegressor()"
      ]
     },
     "execution_count": 40,
     "metadata": {},
     "output_type": "execute_result"
    }
   ],
   "source": [
    "model"
   ]
  },
  {
   "cell_type": "code",
   "execution_count": 41,
   "id": "5d2e221d",
   "metadata": {},
   "outputs": [
    {
     "data": {
      "text/html": [
       "<div>\n",
       "<style scoped>\n",
       "    .dataframe tbody tr th:only-of-type {\n",
       "        vertical-align: middle;\n",
       "    }\n",
       "\n",
       "    .dataframe tbody tr th {\n",
       "        vertical-align: top;\n",
       "    }\n",
       "\n",
       "    .dataframe thead th {\n",
       "        text-align: right;\n",
       "    }\n",
       "</style>\n",
       "<table border=\"1\" class=\"dataframe\">\n",
       "  <thead>\n",
       "    <tr style=\"text-align: right;\">\n",
       "      <th></th>\n",
       "      <th>0</th>\n",
       "    </tr>\n",
       "  </thead>\n",
       "  <tbody>\n",
       "    <tr>\n",
       "      <th>0</th>\n",
       "      <td>0.0</td>\n",
       "    </tr>\n",
       "    <tr>\n",
       "      <th>1</th>\n",
       "      <td>0.0</td>\n",
       "    </tr>\n",
       "    <tr>\n",
       "      <th>2</th>\n",
       "      <td>0.0</td>\n",
       "    </tr>\n",
       "    <tr>\n",
       "      <th>3</th>\n",
       "      <td>0.0</td>\n",
       "    </tr>\n",
       "    <tr>\n",
       "      <th>4</th>\n",
       "      <td>0.0</td>\n",
       "    </tr>\n",
       "    <tr>\n",
       "      <th>...</th>\n",
       "      <td>...</td>\n",
       "    </tr>\n",
       "    <tr>\n",
       "      <th>2095</th>\n",
       "      <td>0.0</td>\n",
       "    </tr>\n",
       "    <tr>\n",
       "      <th>2096</th>\n",
       "      <td>0.0</td>\n",
       "    </tr>\n",
       "    <tr>\n",
       "      <th>2097</th>\n",
       "      <td>0.0</td>\n",
       "    </tr>\n",
       "    <tr>\n",
       "      <th>2098</th>\n",
       "      <td>0.0</td>\n",
       "    </tr>\n",
       "    <tr>\n",
       "      <th>2099</th>\n",
       "      <td>0.0</td>\n",
       "    </tr>\n",
       "  </tbody>\n",
       "</table>\n",
       "<p>2100 rows × 1 columns</p>\n",
       "</div>"
      ],
      "text/plain": [
       "        0\n",
       "0     0.0\n",
       "1     0.0\n",
       "2     0.0\n",
       "3     0.0\n",
       "4     0.0\n",
       "...   ...\n",
       "2095  0.0\n",
       "2096  0.0\n",
       "2097  0.0\n",
       "2098  0.0\n",
       "2099  0.0\n",
       "\n",
       "[2100 rows x 1 columns]"
      ]
     },
     "execution_count": 41,
     "metadata": {},
     "output_type": "execute_result"
    }
   ],
   "source": [
    "y_pred=pd.DataFrame(model.predict(X_test))\n",
    "y_pred"
   ]
  },
  {
   "cell_type": "code",
   "execution_count": 42,
   "id": "4cdd7a14",
   "metadata": {},
   "outputs": [],
   "source": [
    "from math import sqrt\n",
    "from sklearn.metrics import mean_absolute_error,mean_squared_error,r2_score"
   ]
  },
  {
   "cell_type": "code",
   "execution_count": 43,
   "id": "0b53f6f6",
   "metadata": {},
   "outputs": [
    {
     "name": "stdout",
     "output_type": "stream",
     "text": [
      "Mean Absolute Error: 0.0\n",
      "Mean Squared Error : 0.0\n",
      "Root Mean Squared Error : 0.0\n"
     ]
    }
   ],
   "source": [
    "print('Mean Absolute Error:',mean_absolute_error(y_pred,Y_test))\n",
    "print('Mean Squared Error :',mean_squared_error(y_pred,Y_test))\n",
    "print('Root Mean Squared Error :',sqrt(mean_squared_error(y_pred,Y_test)))"
   ]
  },
  {
   "cell_type": "code",
   "execution_count": 44,
   "id": "1374447c",
   "metadata": {},
   "outputs": [
    {
     "data": {
      "text/plain": [
       "<Axes: ylabel='Frequency'>"
      ]
     },
     "execution_count": 44,
     "metadata": {},
     "output_type": "execute_result"
    },
    {
     "data": {
      "image/png": "[encoded data removed]",
      "text/plain": [
       "<Figure size 640x480 with 1 Axes>"
      ]
     },
     "metadata": {},
     "output_type": "display_data"
    }
   ],
   "source": [
    "df.plot.hist(alpha=0.5)"
   ]
  },
  {
   "cell_type": "code",
   "execution_count": null,
   "id": "c7c58d6f",
   "metadata": {},
   "outputs": [],
   "source": []
  },
  {
   "cell_type": "code",
   "execution_count": null,
   "id": "ceb3de6e",
   "metadata": {},
   "outputs": [],
   "source": []
  },
  {
   "cell_type": "code",
   "execution_count": null,
   "id": "1b0ce19e",
   "metadata": {},
   "outputs": [],
   "source": []
  }
 ],
 "metadata": {
  "kernelspec": {
   "display_name": "Python 3 (ipykernel)",
   "language": "python",
   "name": "python3"
  },
  "language_info": {
   "codemirror_mode": {
    "name": "ipython",
    "version": 3
   },
   "file_extension": ".py",
   "mimetype": "text/x-python",
   "name": "python",
   "nbconvert_exporter": "python",
   "pygments_lexer": "ipython3",
   "version": "3.11.3"
  }
 },
 "nbformat": 4,
 "nbformat_minor": 5
}
